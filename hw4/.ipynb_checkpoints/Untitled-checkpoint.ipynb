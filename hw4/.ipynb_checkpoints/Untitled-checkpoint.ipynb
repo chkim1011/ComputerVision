{
 "cells": [
  {
   "cell_type": "code",
   "execution_count": 60,
   "id": "3f9e5a72",
   "metadata": {},
   "outputs": [
    {
     "ename": "ValueError",
     "evalue": "non-broadcastable output operand with shape (6,6) doesn't match the broadcast shape (6,1,6,6)",
     "output_type": "error",
     "traceback": [
      "\u001b[1;31m---------------------------------------------------------------------------\u001b[0m",
      "\u001b[1;31mValueError\u001b[0m                                Traceback (most recent call last)",
      "\u001b[1;32m~\\AppData\\Local\\Temp/ipykernel_6780/4025225199.py\u001b[0m in \u001b[0;36m<module>\u001b[1;34m\u001b[0m\n\u001b[0;32m     90\u001b[0m         \u001b[0mI\u001b[0m \u001b[1;33m=\u001b[0m \u001b[0mcv2\u001b[0m\u001b[1;33m.\u001b[0m\u001b[0mcvtColor\u001b[0m\u001b[1;33m(\u001b[0m\u001b[0mcv2\u001b[0m\u001b[1;33m.\u001b[0m\u001b[0mimread\u001b[0m\u001b[1;33m(\u001b[0m\u001b[0mimg_path\u001b[0m\u001b[1;33m)\u001b[0m\u001b[1;33m,\u001b[0m \u001b[0mcv2\u001b[0m\u001b[1;33m.\u001b[0m\u001b[0mCOLOR_BGR2GRAY\u001b[0m\u001b[1;33m)\u001b[0m\u001b[1;33m\u001b[0m\u001b[1;33m\u001b[0m\u001b[0m\n\u001b[0;32m     91\u001b[0m         \u001b[0mclone\u001b[0m \u001b[1;33m=\u001b[0m \u001b[0mI\u001b[0m\u001b[1;33m.\u001b[0m\u001b[0mcopy\u001b[0m\u001b[1;33m(\u001b[0m\u001b[1;33m)\u001b[0m\u001b[1;33m\u001b[0m\u001b[1;33m\u001b[0m\u001b[0m\n\u001b[1;32m---> 92\u001b[1;33m         \u001b[0mmoving_img\u001b[0m \u001b[1;33m=\u001b[0m \u001b[0msubtract_dominant_motion\u001b[0m\u001b[1;33m(\u001b[0m\u001b[0mT\u001b[0m\u001b[1;33m,\u001b[0m \u001b[0mI\u001b[0m\u001b[1;33m)\u001b[0m\u001b[1;33m\u001b[0m\u001b[1;33m\u001b[0m\u001b[0m\n\u001b[0m\u001b[0;32m     93\u001b[0m         \u001b[0mclone\u001b[0m \u001b[1;33m=\u001b[0m \u001b[0mcv2\u001b[0m\u001b[1;33m.\u001b[0m\u001b[0mcvtColor\u001b[0m\u001b[1;33m(\u001b[0m\u001b[0mclone\u001b[0m\u001b[1;33m,\u001b[0m \u001b[0mcv2\u001b[0m\u001b[1;33m.\u001b[0m\u001b[0mCOLOR_GRAY2BGR\u001b[0m\u001b[1;33m)\u001b[0m\u001b[1;33m\u001b[0m\u001b[1;33m\u001b[0m\u001b[0m\n\u001b[0;32m     94\u001b[0m         \u001b[0mclone\u001b[0m\u001b[1;33m[\u001b[0m\u001b[0mmoving_img\u001b[0m\u001b[1;33m,\u001b[0m \u001b[1;36m2\u001b[0m\u001b[1;33m]\u001b[0m \u001b[1;33m=\u001b[0m \u001b[1;36m522\u001b[0m\u001b[1;33m\u001b[0m\u001b[1;33m\u001b[0m\u001b[0m\n",
      "\u001b[1;32m~\\AppData\\Local\\Temp/ipykernel_6780/4025225199.py\u001b[0m in \u001b[0;36msubtract_dominant_motion\u001b[1;34m(img1, img2)\u001b[0m\n\u001b[0;32m     55\u001b[0m     \u001b[0mtemp\u001b[0m \u001b[1;33m=\u001b[0m \u001b[0mimg1\u001b[0m\u001b[1;33m.\u001b[0m\u001b[0mcopy\u001b[0m\u001b[1;33m(\u001b[0m\u001b[1;33m)\u001b[0m\u001b[1;33m\u001b[0m\u001b[1;33m\u001b[0m\u001b[0m\n\u001b[0;32m     56\u001b[0m     \u001b[0mimg\u001b[0m  \u001b[1;33m=\u001b[0m \u001b[0mimg2\u001b[0m\u001b[1;33m.\u001b[0m\u001b[0mcopy\u001b[0m\u001b[1;33m(\u001b[0m\u001b[1;33m)\u001b[0m\u001b[1;33m\u001b[0m\u001b[1;33m\u001b[0m\u001b[0m\n\u001b[1;32m---> 57\u001b[1;33m     \u001b[0mpd\u001b[0m \u001b[1;33m=\u001b[0m \u001b[0mlucas_kanade_affine\u001b[0m\u001b[1;33m(\u001b[0m\u001b[0mtemp\u001b[0m\u001b[1;33m,\u001b[0m \u001b[0mimg\u001b[0m\u001b[1;33m,\u001b[0m \u001b[0mP\u001b[0m\u001b[1;33m,\u001b[0m \u001b[0mGx\u001b[0m\u001b[1;33m,\u001b[0m \u001b[0mGy\u001b[0m\u001b[1;33m)\u001b[0m\u001b[1;33m\u001b[0m\u001b[1;33m\u001b[0m\u001b[0m\n\u001b[0m\u001b[0;32m     58\u001b[0m     \u001b[0mP\u001b[0m \u001b[1;33m=\u001b[0m \u001b[0mP\u001b[0m \u001b[1;33m+\u001b[0m \u001b[0mpd\u001b[0m\u001b[1;33m\u001b[0m\u001b[1;33m\u001b[0m\u001b[0m\n\u001b[0;32m     59\u001b[0m \u001b[1;33m\u001b[0m\u001b[0m\n",
      "\u001b[1;32m~\\AppData\\Local\\Temp/ipykernel_6780/4025225199.py\u001b[0m in \u001b[0;36mlucas_kanade_affine\u001b[1;34m(img1, img2, p, Gx, Gy)\u001b[0m\n\u001b[0;32m     35\u001b[0m                 \u001b[0mgrad\u001b[0m \u001b[1;33m=\u001b[0m \u001b[0mnp\u001b[0m\u001b[1;33m.\u001b[0m\u001b[0marray\u001b[0m\u001b[1;33m(\u001b[0m\u001b[1;33m[\u001b[0m\u001b[1;33m[\u001b[0m\u001b[0mgx\u001b[0m\u001b[1;33m*\u001b[0m\u001b[0mx_\u001b[0m\u001b[1;33m]\u001b[0m\u001b[1;33m,\u001b[0m\u001b[1;33m[\u001b[0m\u001b[0mgy\u001b[0m\u001b[1;33m*\u001b[0m\u001b[0mx_\u001b[0m\u001b[1;33m]\u001b[0m\u001b[1;33m,\u001b[0m\u001b[1;33m[\u001b[0m\u001b[0mgx\u001b[0m\u001b[1;33m*\u001b[0m\u001b[0my_\u001b[0m\u001b[1;33m]\u001b[0m\u001b[1;33m,\u001b[0m\u001b[1;33m[\u001b[0m\u001b[0mgy\u001b[0m\u001b[1;33m*\u001b[0m\u001b[0my_\u001b[0m\u001b[1;33m]\u001b[0m\u001b[1;33m,\u001b[0m\u001b[1;33m[\u001b[0m\u001b[0mgx\u001b[0m\u001b[1;33m]\u001b[0m\u001b[1;33m,\u001b[0m\u001b[1;33m[\u001b[0m\u001b[0mgy\u001b[0m\u001b[1;33m]\u001b[0m\u001b[1;33m]\u001b[0m\u001b[1;33m)\u001b[0m\u001b[1;33m\u001b[0m\u001b[1;33m\u001b[0m\u001b[0m\n\u001b[0;32m     36\u001b[0m                 \u001b[0merror_sum\u001b[0m \u001b[1;33m=\u001b[0m \u001b[0merror_sum\u001b[0m \u001b[1;33m+\u001b[0m \u001b[0mgrad\u001b[0m\u001b[1;33m*\u001b[0m\u001b[0merror\u001b[0m\u001b[1;33m\u001b[0m\u001b[1;33m\u001b[0m\u001b[0m\n\u001b[1;32m---> 37\u001b[1;33m                 \u001b[0mH\u001b[0m \u001b[1;33m+=\u001b[0m \u001b[0mgrad\u001b[0m\u001b[1;33m@\u001b[0m\u001b[0mgrad\u001b[0m\u001b[1;33m.\u001b[0m\u001b[0mT\u001b[0m\u001b[1;33m\u001b[0m\u001b[1;33m\u001b[0m\u001b[0m\n\u001b[0m\u001b[0;32m     38\u001b[0m     \u001b[0minv_H\u001b[0m \u001b[1;33m=\u001b[0m \u001b[0mnp\u001b[0m\u001b[1;33m.\u001b[0m\u001b[0mlinalg\u001b[0m\u001b[1;33m.\u001b[0m\u001b[0mpinv\u001b[0m\u001b[1;33m(\u001b[0m\u001b[0mH\u001b[0m\u001b[1;33m)\u001b[0m\u001b[1;33m\u001b[0m\u001b[1;33m\u001b[0m\u001b[0m\n\u001b[0;32m     39\u001b[0m     \u001b[0mdp\u001b[0m \u001b[1;33m=\u001b[0m \u001b[0minv_H\u001b[0m\u001b[1;33m@\u001b[0m\u001b[0merror_sum\u001b[0m\u001b[1;33m\u001b[0m\u001b[1;33m\u001b[0m\u001b[0m\n",
      "\u001b[1;31mValueError\u001b[0m: non-broadcastable output operand with shape (6,6) doesn't match the broadcast shape (6,1,6,6)"
     ]
    }
   ],
   "source": [
    "# %load run_motion.py\n",
    "import os\n",
    "import numpy as np\n",
    "import cv2\n",
    "from scipy.interpolate import RectBivariateSpline\n",
    "from skimage.filters import apply_hysteresis_threshold\n",
    "\n",
    "def lucas_kanade_affine(img1, img2, p, Gx, Gy):\n",
    "    ### START CODE HERE ###\n",
    "    # [Caution] From now on, you can only use numpy and \n",
    "    # RectBivariateSpline. Never use OpenCV.\n",
    "    temp = img1.copy()\n",
    "    img_norm  = img2.copy()/255.0\n",
    "    Gx_norm = Gx.copy()/255.0\n",
    "    Gy_norm = Gy.copy()/255.0\n",
    "    height, width = temp.shape\n",
    "    \n",
    "    x = np.arange(0,width,1)\n",
    "    y = np.arange(0,height,1)\n",
    "    img_spline = RectBivariateSpline(y, x, img_norm)\n",
    "    Gx_spline  = RectBivariateSpline(y, x, Gx_norm)\n",
    "    Gy_spline  = RectBivariateSpline(y, x, Gy_norm)\n",
    "    \n",
    "    H = np.zeros((6,6))\n",
    "    error_sum = np.zeros((6,1))\n",
    "    \n",
    "    for y_ in y:\n",
    "        for x_ in x:\n",
    "            wx = (1 + p[0])*x_ + p[2]*y_ + p[4]\n",
    "            wy = p[1]*x_ + (1 + p[3])*y_ + p[5]\n",
    "            if (wx >= 0 or wx <= width-1 or wy >= 0 or wy <= height-1):\n",
    "                gx = Gx_spline(wy,wx)*255\n",
    "                gy = Gy_spline(wy,wx)*255\n",
    "                error = temp[y_,x_] - img_spline.ev(wy,wx)*255\n",
    "                grad = np.array([[gx*x_],[gy*x_],[gx*y_],[gy*y_],[gx],[gy]])\n",
    "                error_sum = error_sum + grad*error\n",
    "                H = H + grad@grad.T\n",
    "    inv_H = np.linalg.pinv(H)\n",
    "    dp = inv_H@error_sum    \n",
    "\n",
    "    ### END CODE HERE ###\n",
    "    return dp\n",
    "\n",
    "def subtract_dominant_motion(img1, img2):\n",
    "    Gx = cv2.Sobel(I, cv2.CV_64F, 1, 0, ksize = 5) # do not modify this\n",
    "    Gy = cv2.Sobel(I, cv2.CV_64F, 0, 1, ksize = 5) # do not modify this\n",
    "    th_hi = 0.2 * 256 # you can modify this\n",
    "    th_lo = 0.15 * 256 # you can modify this\n",
    "\n",
    "    ### START CODE HERE ###\n",
    "    # [Caution] From now on, you can only use numpy and \n",
    "    # RectBivariateSpline. Never use OpenCV.\n",
    "    global P\n",
    "    \n",
    "    temp = img1.copy()\n",
    "    img  = img2.copy()\n",
    "    pd = lucas_kanade_affine(temp, img, P, Gx, Gy)\n",
    "    P = P + pd\n",
    "    \n",
    "    height, width = img.shape    \n",
    "    x = np.arange(0,width,1)\n",
    "    y = np.arange(0,height,1)\n",
    "    temp_norm = temp/255.0\n",
    "    temp_spline = RectBivariateSpline(y, x, temp_norm)\n",
    "    \n",
    "    temp_warped = img.copy()\n",
    "    for y_ in y:\n",
    "        for x_ in x:\n",
    "            w = np.array([[1 + P[0], P[2]],[P[1], 1 + P[3]]])\n",
    "            b = np.array([[x_-P[4]],[y_-P[5]]])\n",
    "            wx, wy = np.linalg.solve(w,b)\n",
    "            temp_warped[y_][x_] = temp_spline.ev(wy,wx)*255\n",
    "    \n",
    "    moving_image = np.abs(img - temp_warped)\n",
    "    ### END CODE HERE ###\n",
    "\n",
    "    hyst = apply_hysteresis_threshold(moving_image, th_lo, th_hi)\n",
    "    return hyst\n",
    "\n",
    "if __name__ == \"__main__\":\n",
    "    data_dir = 'data'\n",
    "    video_path = 'motion.mp4'\n",
    "    fourcc = cv2.VideoWriter_fourcc(*'mp4v')\n",
    "    out = cv2.VideoWriter(video_path, fourcc, 150/20, (636, 318))\n",
    "    tmp_path = os.path.join(data_dir, \"organized-{}.jpg\".format(0))\n",
    "    T = cv2.cvtColor(cv2.imread(tmp_path), cv2.COLOR_BGR2GRAY)\n",
    "    P = np.zeros((6,1))\n",
    "    for i in range(0, 50):\n",
    "        img_path = os.path.join(data_dir, \"organized-{}.jpg\".format(i))\n",
    "        I = cv2.cvtColor(cv2.imread(img_path), cv2.COLOR_BGR2GRAY)\n",
    "        clone = I.copy()\n",
    "        moving_img = subtract_dominant_motion(T, I)\n",
    "        clone = cv2.cvtColor(clone, cv2.COLOR_GRAY2BGR)\n",
    "        clone[moving_img, 2] = 522\n",
    "        out.write(clone)\n",
    "        T = I\n",
    "    out.release()\n",
    "    "
   ]
  },
  {
   "cell_type": "code",
   "execution_count": 26,
   "id": "f0fdcb87",
   "metadata": {},
   "outputs": [
    {
     "data": {
      "text/plain": [
       "array([[1, 1],\n",
       "       [2, 2]])"
      ]
     },
     "execution_count": 26,
     "metadata": {},
     "output_type": "execute_result"
    }
   ],
   "source": [
    "x = [[1,1],[2,2]]\n",
    "np.asarray(x)"
   ]
  },
  {
   "cell_type": "code",
   "execution_count": 27,
   "id": "855b8804",
   "metadata": {},
   "outputs": [],
   "source": [
    "a = [[],[]]"
   ]
  },
  {
   "cell_type": "code",
   "execution_count": 37,
   "id": "9c67e5d8",
   "metadata": {},
   "outputs": [],
   "source": [
    "a[0].append(1)\n",
    "a = np.array([[1,2],[1,2]])"
   ]
  },
  {
   "cell_type": "code",
   "execution_count": 40,
   "id": "376b4b21",
   "metadata": {},
   "outputs": [
    {
     "data": {
      "text/plain": [
       "array([[0.5, 1. ],\n",
       "       [0.5, 1. ]])"
      ]
     },
     "execution_count": 40,
     "metadata": {},
     "output_type": "execute_result"
    }
   ],
   "source": [
    "a/2"
   ]
  },
  {
   "cell_type": "code",
   "execution_count": 41,
   "id": "4621695a",
   "metadata": {},
   "outputs": [
    {
     "data": {
      "text/plain": [
       "array([[1, 2],\n",
       "       [1, 2]])"
      ]
     },
     "execution_count": 41,
     "metadata": {},
     "output_type": "execute_result"
    }
   ],
   "source": [
    "a"
   ]
  },
  {
   "cell_type": "code",
   "execution_count": 46,
   "id": "458638b1",
   "metadata": {},
   "outputs": [
    {
     "name": "stdout",
     "output_type": "stream",
     "text": [
      "1\n",
      "2\n"
     ]
    }
   ],
   "source": [
    "a = 1\n",
    "\n",
    "def hi():\n",
    "    print(a)\n",
    "    print(b)\n",
    "\n",
    "if __name__ == \"__main__\":\n",
    "    b = 2\n",
    "    hi()"
   ]
  },
  {
   "cell_type": "code",
   "execution_count": 57,
   "id": "34bc0003",
   "metadata": {},
   "outputs": [],
   "source": [
    "grad = np.array([[1],[2],[3],[4],[5],[6]])\n",
    "grad += grad*3"
   ]
  },
  {
   "cell_type": "code",
   "execution_count": 58,
   "id": "51c0fc5f",
   "metadata": {},
   "outputs": [
    {
     "data": {
      "text/plain": [
       "array([[ 4],\n",
       "       [ 8],\n",
       "       [12],\n",
       "       [16],\n",
       "       [20],\n",
       "       [24]])"
      ]
     },
     "execution_count": 58,
     "metadata": {},
     "output_type": "execute_result"
    }
   ],
   "source": [
    "grad"
   ]
  },
  {
   "cell_type": "code",
   "execution_count": null,
   "id": "9f5630e3",
   "metadata": {},
   "outputs": [],
   "source": []
  }
 ],
 "metadata": {
  "kernelspec": {
   "display_name": "Python 3 (ipykernel)",
   "language": "python",
   "name": "python3"
  },
  "language_info": {
   "codemirror_mode": {
    "name": "ipython",
    "version": 3
   },
   "file_extension": ".py",
   "mimetype": "text/x-python",
   "name": "python",
   "nbconvert_exporter": "python",
   "pygments_lexer": "ipython3",
   "version": "3.8.11"
  }
 },
 "nbformat": 4,
 "nbformat_minor": 5
}
