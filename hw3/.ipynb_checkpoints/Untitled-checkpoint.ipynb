{
 "cells": [
  {
   "cell_type": "code",
   "execution_count": 11,
   "id": "7b437888",
   "metadata": {},
   "outputs": [
    {
     "name": "stdout",
     "output_type": "stream",
     "text": [
      "rectify start\n",
      "rectify end\n",
      "time : 126.0963876247406\n"
     ]
    }
   ],
   "source": [
    "import math\n",
    "import numpy as np\n",
    "from PIL import Image\n",
    "import time\n",
    "\n",
    "def compute_h(p1, p2):\n",
    "    # p1=H*p2\n",
    "    n = p1.shape[0]\n",
    "    A = np.zeros((2*n,9))\n",
    "\n",
    "    for i in range(n):\n",
    "        A[2*i,0] = p2[i,0]\n",
    "        A[2*i,1] = p2[i,1]\n",
    "        A[2*i,2] = 1\n",
    "        A[2*i,6] = -p1[i,0]*p2[i,0]\n",
    "        A[2*i,7] = -p1[i,0]*p2[i,1]\n",
    "        A[2*i,8] = -p1[i,0]         \n",
    "        \n",
    "        A[2*i+1,3] = p2[i,0]\n",
    "        A[2*i+1,4] = p2[i,1]\n",
    "        A[2*i+1,5] = 1         \n",
    "        A[2*i+1,6] = -p1[i,1]*p2[i,0]\n",
    "        A[2*i+1,7] = -p1[i,1]*p2[i,1]\n",
    "        A[2*i+1,8] = -p1[i,1]\n",
    "    \n",
    "    ATA = np.dot(np.transpose(A),A)\n",
    "    U, S, V = np.linalg.svd(ATA)\n",
    "    unit_t = U[:,-1]\n",
    "    H = np.reshape(unit_t,(3,3))\n",
    "\n",
    "    return H\n",
    "\n",
    "def compute_h_norm(p1, p2):\n",
    "\n",
    "    p1_norm = p1/1600\n",
    "    p2_norm = p2/1600\n",
    "    N = [1/1600,1/1600,1,1/1600,1/1600,1,1/(1600*1600),1/(1600*1600),1/1600]\n",
    "    H = compute_h(p1_norm,p2_norm)\n",
    "    H = np.reshape(np.dot(np.diag(N),np.reshape(H,(9,1))),(3,3))\n",
    "    \n",
    "    return H\n",
    "\n",
    "def warp_image(igs_in, igs_ref, H):\n",
    "    \n",
    "    source = igs_in.copy()\n",
    "    reference = igs_ref.copy()\n",
    "    h = H/H[2,2]\n",
    "    inv_H = np.linalg.inv(h)\n",
    "    \n",
    "    coor_00 = np.dot(h,[0,0,1])\n",
    "    coor_0w = np.dot(h,[1599,0,1]) \n",
    "    coor_h0 = np.dot(h,[0,1199,1]) \n",
    "    coor_hw = np.dot(h,[1599,1199,1])\n",
    "    max_x = max(coor_0w[0]/coor_0w[2],coor_hw[0]/coor_hw[2])\n",
    "    min_x = min(coor_00[0]/coor_00[2],coor_h0[0]/coor_h0[2])\n",
    "    max_y = max(coor_h0[1]/coor_h0[2],coor_hw[1]/coor_hw[2])\n",
    "    min_y = min(coor_00[1]/coor_00[2],coor_0w[1]/coor_0w[2])\n",
    "    \n",
    "    orix = math.floor(coor_00[0]/coor_00[2])\n",
    "    oriy = math.floor(coor_00[1]/coor_00[2])\n",
    "    \n",
    "    igs_warp = np.zeros((math.ceil(max_y)-math.floor(min_y),math.ceil(1600-math.floor(min_x)),3))\n",
    "    \n",
    "    for x in range(igs_warp.shape[1]):\n",
    "        for y in range(igs_warp.shape[0]):\n",
    "            ref = np.array([[x+orix],[y+oriy],[1]])\n",
    "            res = np.dot(inv_H,ref)\n",
    "            x_ = res[0]/res[2]\n",
    "            y_ = res[1]/res[2]\n",
    "            if x_ >= 0 and x_ < source.shape[1]-1 and y_ >= 0 and y_ < source.shape[0]-1:\n",
    "                x_floor = math.floor(x_)\n",
    "                y_floor = math.floor(y_)                \n",
    "                a = x_ - x_floor\n",
    "                b = y_ - y_floor\n",
    "                term1 = (1-b)*(1-a)*source[y_floor,x_floor,:]\n",
    "                term2 = b*(1-a)*source[y_floor+1,x_floor,:]\n",
    "                term3 = (1-b)*a*source[y_floor,x_floor+1,:]\n",
    "                term4 = b*a*source[y_floor+1,x_floor+1,:]\n",
    "                igs_warp[y,x,:] = term1+term2+term3+term4\n",
    "            else:\n",
    "                igs_warp[y,x,:] = 0.1\n",
    "    print(\"warping done\")\n",
    "    ref_merge = np.zeros(igs_warp.shape)\n",
    "    ref_merge[-oriy:1200-oriy,-orix:1600-orix,:] = reference\n",
    "    \n",
    "    igs_merge = igs_warp.copy()\n",
    "    for ch in range(3):\n",
    "        for i in range(igs_merge.shape[0]):\n",
    "            for j in range(igs_merge.shape[1]):\n",
    "                if(igs_merge[i,j,ch] == 0.1 ):\n",
    "                    igs_merge[i,j,ch] = ref_merge[i,j,ch]\n",
    "    print(\"merging done\")\n",
    "    return igs_warp, igs_merge\n",
    "\n",
    "def rectify(igs, p1, p2):\n",
    "    H = compute_h_norm(p2,p1)\n",
    "    inv_h = np.linalg.inv(H/H[2,2])\n",
    "    igs_rec = igs.copy()\n",
    "    \n",
    "    \n",
    "    for y in range(igs_rec.shape[0]):\n",
    "        for x in range(igs_rec.shape[1]):\n",
    "            res = np.dot(inv_h,[x,y,1])\n",
    "            x_ = res[0]/res[2]\n",
    "            y_ = res[1]/res[2]\n",
    "            if x_>=0 and x_<igs_rec.shape[1]-1 and y_>=0 and y_<igs_rec.shape[0]-1:\n",
    "                flx = math.floor(x_)\n",
    "                fly = math.floor(y_)\n",
    "                a = x_ - flx\n",
    "                b = y_ - fly\n",
    "                term1 = (1-b)*(1-a)*igs[fly,flx,:]\n",
    "                term2 = b*(1-a)*igs[fly+1,flx,:]\n",
    "                term3 = (1-b)*a*igs[fly,flx+1,:]\n",
    "                term4 = b*a*igs[fly+1,flx+1,:]\n",
    "                igs_rec[y,x,:] = term1+term2+term3+term4\n",
    "            else:\n",
    "                igs_rec[y,x,:] = 0               \n",
    "        \n",
    "    return igs_rec\n",
    "\n",
    "def set_cor_mosaic():\n",
    "    p_in = np.array([[1282,417],[1443,405],[1294,510],[1446,505],[845,862],[943,864],[1068,555],[1255,959]])\n",
    "    p_ref = np.array([[535,424],[676,423],[537,513],[679,512],[58,896],[181,888],[320,553],[509,948]])\n",
    "                    \n",
    "\n",
    "    return p_in, p_ref\n",
    "\n",
    "def set_cor_rec():\n",
    "    c_in = np.array([[1069,179],[1382,139],[1058,849],[1381,861]])\n",
    "    c_ref = np.array([[600,150],[900,150],[600,770],[900,770]])\n",
    "    \n",
    "    return c_in, c_ref\n",
    "\n",
    "\n",
    "'''\n",
    "    ##############\n",
    "    # step 1: mosaicing\n",
    "    ##############\n",
    "\n",
    "    # read images\n",
    "    img_in = Image.open('data/porto1.png').convert('RGB')\n",
    "    img_ref = Image.open('data/porto2.png').convert('RGB')\n",
    "\n",
    "    # shape of igs_in, igs_ref: [y, x, 3]\n",
    "    igs_in = np.array(img_in)\n",
    "    igs_ref = np.array(img_ref)\n",
    "\n",
    "    # lists of the corresponding points (x,y)\n",
    "    # shape of p_in, p_ref: [N, 2]\n",
    "    p_in, p_ref = set_cor_mosaic()\n",
    "\n",
    "    # p_ref = H * p_in\n",
    "    H = compute_h_norm(p_ref, p_in)\n",
    "    print(\"warping start\")\n",
    "    igs_warp, igs_merge = warp_image(igs_in, igs_ref, H)\n",
    "\n",
    "    # plot images\n",
    "    img_warp = Image.fromarray(igs_warp.astype(np.uint8))\n",
    "    img_merge = Image.fromarray(igs_merge.astype(np.uint8))\n",
    "\n",
    "    # save images\n",
    "    img_warp.save('porto1_warped.png')\n",
    "    img_merge.save('porto_mergeed.png')\n",
    "'''\n",
    "def main():\n",
    "\n",
    "    ##############\n",
    "    # step 2: rectification\n",
    "    ##############\n",
    "\n",
    "    img_rec = Image.open('data/iphone.png').convert('RGB')\n",
    "    igs_rec = np.array(img_rec)\n",
    "\n",
    "    c_in, c_ref = set_cor_rec()\n",
    "    print(\"rectify start\")\n",
    "    igs_rec = rectify(igs_rec, c_in, c_ref)\n",
    "    print(\"rectify end\")\n",
    "    img_rec = Image.fromarray(igs_rec.astype(np.uint8))\n",
    "    img_rec.save('iphone_rectified.png')\n",
    "\n",
    "\n",
    "if __name__ == '__main__':\n",
    "    start = time.time()\n",
    "    main()\n",
    "    print(\"time :\", time.time() - start)\n"
   ]
  },
  {
   "cell_type": "code",
   "execution_count": 9,
   "id": "914591e7",
   "metadata": {},
   "outputs": [],
   "source": [
    "p_in = np.array([[1282,417],[1443,405],[1294,510],[1446,505],[845,862],[943,864],[1068,555],[1255,959]])\n",
    "p_ref = np.array([[535,424],[676,423],[537,513],[679,512],[58,896],[181,888],[320,553],[509,948]])\n",
    "H_ = compute_h_norm(p_ref,p_in)\n",
    "inv = np.linalg.inv(H_/H_[2,2])"
   ]
  },
  {
   "cell_type": "code",
   "execution_count": 10,
   "id": "3bee7574",
   "metadata": {},
   "outputs": [],
   "source": [
    "coor_00 = np.dot(H_/H_[2,2],[0,0,1]) \n",
    "coor_0w = np.dot(H_/H_[2,2],[1599,0,1]) \n",
    "coor_h0 = np.dot(H_/H_[2,2],[0,1199,1]) \n",
    "coor_hw = np.dot(H_/H_[2,2],[1599,1199,1])\n",
    "max_x = max(coor_0w[0]/coor_0w[2],coor_hw[0]/coor_hw[2])\n",
    "min_x = min(coor_00[0]/coor_00[2],coor_h0[0]/coor_h0[2])\n",
    "max_y = max(coor_h0[1]/coor_h0[2],coor_hw[1]/coor_hw[2])\n",
    "min_y = min(coor_00[1]/coor_00[2],coor_0w[1]/coor_0w[2])"
   ]
  },
  {
   "cell_type": "code",
   "execution_count": 11,
   "id": "b4c1b4b0",
   "metadata": {},
   "outputs": [
    {
     "data": {
      "text/plain": [
       "array([-1.58024578e+03, -4.19588824e+02,  1.00000000e+00])"
      ]
     },
     "execution_count": 11,
     "metadata": {},
     "output_type": "execute_result"
    }
   ],
   "source": [
    "coor_00"
   ]
  },
  {
   "cell_type": "code",
   "execution_count": 5,
   "id": "30729aba",
   "metadata": {},
   "outputs": [
    {
     "data": {
      "text/plain": [
       "420"
      ]
     },
     "execution_count": 5,
     "metadata": {},
     "output_type": "execute_result"
    }
   ],
   "source": [
    "-math.floor(coor_00[1]/coor_00[2])"
   ]
  },
  {
   "cell_type": "code",
   "execution_count": 6,
   "id": "1a29c107",
   "metadata": {},
   "outputs": [
    {
     "data": {
      "text/plain": [
       "1581"
      ]
     },
     "execution_count": 6,
     "metadata": {},
     "output_type": "execute_result"
    }
   ],
   "source": [
    "-math.floor(coor_00[0]/coor_00[2])"
   ]
  },
  {
   "cell_type": "code",
   "execution_count": 5,
   "id": "3243f657",
   "metadata": {},
   "outputs": [
    {
     "name": "stdout",
     "output_type": "stream",
     "text": [
      "0.5627735625731941\n",
      "0.2160832319839998\n",
      "0.8394822857106449\n",
      "0.13978541437247471\n",
      "0.6250616451413004\n",
      "0.6002731135141353\n",
      "0.5999446934135244\n",
      "0.11812405976879059\n",
      "0.6431232415940682\n",
      "0.44701043101210114\n",
      "0.8110761392039747\n",
      "0.28704177868737735\n",
      "0.06678194193099896\n",
      "0.18462337142160157\n",
      "0.6664297617655026\n",
      "0.06083359555847745\n",
      "0.8129515038798205\n",
      "0.6054991176506144\n",
      "0.6558602755447682\n",
      "0.015410080954620597\n",
      "0.8399636445986746\n",
      "0.24973447154894735\n",
      "0.18043077929870466\n",
      "0.128918738457936\n",
      "0.8763866215953998\n",
      "0.9755269075572965\n",
      "0.15445904504385333\n"
     ]
    }
   ],
   "source": [
    "\n",
    "a = 0.5\n",
    "b = 0.5\n",
    "for i in range(3):\n",
    "    for j in range(3):\n",
    "        for ch in range(3):\n",
    "            term1 = (1-b)*(1-a)*c[i,j,ch]\n",
    "            term2 = b*(1-a)*c[i,j,ch]\n",
    "            term3 = (1-b)*a*c[i,j,ch]\n",
    "            term4 = b*a*c[i,j,ch]\n",
    "            print(term1+term2+term3+term4)"
   ]
  },
  {
   "cell_type": "code",
   "execution_count": 6,
   "id": "748baf9c",
   "metadata": {},
   "outputs": [
    {
     "name": "stdout",
     "output_type": "stream",
     "text": [
      "[0.56277356 0.21608323 0.83948229]\n",
      "[0.13978541 0.62506165 0.60027311]\n",
      "[0.59994469 0.11812406 0.64312324]\n",
      "[0.44701043 0.81107614 0.28704178]\n",
      "[0.06678194 0.18462337 0.66642976]\n",
      "[0.0608336  0.8129515  0.60549912]\n",
      "[0.65586028 0.01541008 0.83996364]\n",
      "[0.24973447 0.18043078 0.12891874]\n",
      "[0.87638662 0.97552691 0.15445905]\n"
     ]
    }
   ],
   "source": [
    "a = 0.5\n",
    "b = 0.5\n",
    "for i in range(3):\n",
    "    for j in range(3):\n",
    "            term1 = (1-b)*(1-a)*c[i,j,:]\n",
    "            term2 = b*(1-a)*c[i,j,:]\n",
    "            term3 = (1-b)*a*c[i,j,:]\n",
    "            term4 = b*a*c[i,j,:]\n",
    "            print(term1+term2+term3+term4)"
   ]
  },
  {
   "cell_type": "code",
   "execution_count": null,
   "id": "84351dad",
   "metadata": {},
   "outputs": [],
   "source": []
  },
  {
   "cell_type": "code",
   "execution_count": null,
   "id": "408a1b92",
   "metadata": {},
   "outputs": [],
   "source": []
  }
 ],
 "metadata": {
  "kernelspec": {
   "display_name": "Python 3 (ipykernel)",
   "language": "python",
   "name": "python3"
  },
  "language_info": {
   "codemirror_mode": {
    "name": "ipython",
    "version": 3
   },
   "file_extension": ".py",
   "mimetype": "text/x-python",
   "name": "python",
   "nbconvert_exporter": "python",
   "pygments_lexer": "ipython3",
   "version": "3.8.11"
  }
 },
 "nbformat": 4,
 "nbformat_minor": 5
}
