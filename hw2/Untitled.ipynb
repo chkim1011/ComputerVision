{
 "cells": [
  {
   "cell_type": "code",
   "execution_count": 2,
   "id": "40197541",
   "metadata": {},
   "outputs": [
    {
     "ename": "NameError",
     "evalue": "name 'Im' is not defined",
     "output_type": "error",
     "traceback": [
      "\u001b[1;31m---------------------------------------------------------------------------\u001b[0m",
      "\u001b[1;31mNameError\u001b[0m                                 Traceback (most recent call last)",
      "\u001b[1;32m<ipython-input-2-3cb6b38ac8c1>\u001b[0m in \u001b[0;36m<module>\u001b[1;34m\u001b[0m\n\u001b[0;32m     71\u001b[0m \u001b[1;33m\u001b[0m\u001b[0m\n\u001b[0;32m     72\u001b[0m \u001b[1;32mif\u001b[0m \u001b[0m__name__\u001b[0m \u001b[1;33m==\u001b[0m \u001b[1;34m'__main__'\u001b[0m\u001b[1;33m:\u001b[0m\u001b[1;33m\u001b[0m\u001b[1;33m\u001b[0m\u001b[0m\n\u001b[1;32m---> 73\u001b[1;33m     \u001b[0mmain\u001b[0m\u001b[1;33m(\u001b[0m\u001b[1;33m)\u001b[0m\u001b[1;33m\u001b[0m\u001b[1;33m\u001b[0m\u001b[0m\n\u001b[0m",
      "\u001b[1;32m<ipython-input-2-3cb6b38ac8c1>\u001b[0m in \u001b[0;36mmain\u001b[1;34m()\u001b[0m\n\u001b[0;32m     61\u001b[0m \u001b[1;33m\u001b[0m\u001b[0m\n\u001b[0;32m     62\u001b[0m         \u001b[1;31m# Hough function\u001b[0m\u001b[1;33m\u001b[0m\u001b[1;33m\u001b[0m\u001b[1;33m\u001b[0m\u001b[0m\n\u001b[1;32m---> 63\u001b[1;33m         \u001b[0mIm\u001b[0m\u001b[1;33m,\u001b[0m \u001b[0mIo\u001b[0m\u001b[1;33m,\u001b[0m \u001b[0mIx\u001b[0m\u001b[1;33m,\u001b[0m \u001b[0mIy\u001b[0m \u001b[1;33m=\u001b[0m \u001b[0mEdgeDetection\u001b[0m\u001b[1;33m(\u001b[0m\u001b[0mIgs\u001b[0m\u001b[1;33m,\u001b[0m \u001b[0msigma\u001b[0m\u001b[1;33m,\u001b[0m \u001b[0mhighThreshold\u001b[0m\u001b[1;33m,\u001b[0m \u001b[0mlowThreshold\u001b[0m\u001b[1;33m)\u001b[0m\u001b[1;33m\u001b[0m\u001b[1;33m\u001b[0m\u001b[0m\n\u001b[0m\u001b[0;32m     64\u001b[0m         \u001b[0mH\u001b[0m\u001b[1;33m=\u001b[0m \u001b[0mHoughTransform\u001b[0m\u001b[1;33m(\u001b[0m\u001b[0mIm\u001b[0m\u001b[1;33m,\u001b[0m \u001b[0mrhoRes\u001b[0m\u001b[1;33m,\u001b[0m \u001b[0mthetaRes\u001b[0m\u001b[1;33m)\u001b[0m\u001b[1;33m\u001b[0m\u001b[1;33m\u001b[0m\u001b[0m\n\u001b[0;32m     65\u001b[0m         \u001b[0mlRho\u001b[0m\u001b[1;33m,\u001b[0m\u001b[0mlTheta\u001b[0m \u001b[1;33m=\u001b[0m\u001b[0mHoughLines\u001b[0m\u001b[1;33m(\u001b[0m\u001b[0mH\u001b[0m\u001b[1;33m,\u001b[0m\u001b[0mrhoRes\u001b[0m\u001b[1;33m,\u001b[0m\u001b[0mthetaRes\u001b[0m\u001b[1;33m,\u001b[0m\u001b[0mnLines\u001b[0m\u001b[1;33m)\u001b[0m\u001b[1;33m\u001b[0m\u001b[1;33m\u001b[0m\u001b[0m\n",
      "\u001b[1;32m<ipython-input-2-3cb6b38ac8c1>\u001b[0m in \u001b[0;36mEdgeDetection\u001b[1;34m(Igs, sigma, highThreshold, lowThreshold)\u001b[0m\n\u001b[0;32m     30\u001b[0m \u001b[1;33m\u001b[0m\u001b[0m\n\u001b[0;32m     31\u001b[0m \u001b[1;33m\u001b[0m\u001b[0m\n\u001b[1;32m---> 32\u001b[1;33m     \u001b[1;32mreturn\u001b[0m \u001b[0mIm\u001b[0m\u001b[1;33m,\u001b[0m \u001b[0mIo\u001b[0m\u001b[1;33m,\u001b[0m \u001b[0mIx\u001b[0m\u001b[1;33m,\u001b[0m \u001b[0mIy\u001b[0m\u001b[1;33m\u001b[0m\u001b[1;33m\u001b[0m\u001b[0m\n\u001b[0m\u001b[0;32m     33\u001b[0m \u001b[1;33m\u001b[0m\u001b[0m\n\u001b[0;32m     34\u001b[0m \u001b[1;32mdef\u001b[0m \u001b[0mHoughTransform\u001b[0m\u001b[1;33m(\u001b[0m\u001b[0mIm\u001b[0m\u001b[1;33m,\u001b[0m \u001b[0mrhoRes\u001b[0m\u001b[1;33m,\u001b[0m \u001b[0mthetaRes\u001b[0m\u001b[1;33m)\u001b[0m\u001b[1;33m:\u001b[0m\u001b[1;33m\u001b[0m\u001b[1;33m\u001b[0m\u001b[0m\n",
      "\u001b[1;31mNameError\u001b[0m: name 'Im' is not defined"
     ]
    }
   ],
   "source": [
    "# %load HW2_HoughTransform.py\n",
    "\n",
    "import math\n",
    "import glob\n",
    "import numpy as np\n",
    "from PIL import Image\n",
    "\n",
    "\n",
    "# parameters\n",
    "\n",
    "datadir = './data'\n",
    "resultdir='./results'\n",
    "\n",
    "# you can calibrate these parameters\n",
    "sigma=2\n",
    "highThreshold=0.03\n",
    "lowThreshold=0.01\n",
    "rhoRes=2\n",
    "thetaRes=math.pi/180\n",
    "nLines=20\n",
    "\n",
    "\n",
    "def ConvFilter(Igs, G):\n",
    "    H, W = Igs.shape\n",
    "\n",
    "    return Iconv\n",
    "\n",
    "def EdgeDetection(Igs, sigma, highThreshold, lowThreshold):\n",
    "    # TODO ...\n",
    "\n",
    "\n",
    "    return Im, Io, Ix, Iy\n",
    "\n",
    "def HoughTransform(Im, rhoRes, thetaRes):\n",
    "    # TODO ...\n",
    "\n",
    "\n",
    "    return H\n",
    "\n",
    "def HoughLines(H,rhoRes,thetaRes,nLines):\n",
    "    # TODO ...\n",
    "\n",
    "\n",
    "    return lRho,lTheta\n",
    "\n",
    "def HoughLineSegments(lRho, lTheta, Im):\n",
    "    # TODO ...\n",
    "\n",
    "\n",
    "    return l\n",
    "\n",
    "def main():\n",
    "\n",
    "    # read images\n",
    "    for img_path in glob.glob(datadir+'/*.jpg'):\n",
    "        # load grayscale image\n",
    "        img = Image.open(img_path).convert(\"L\")\n",
    "\n",
    "        Igs = np.array(img)\n",
    "        Igs = Igs / 255.\n",
    "\n",
    "        # Hough function\n",
    "        Im, Io, Ix, Iy = EdgeDetection(Igs, sigma, highThreshold, lowThreshold)\n",
    "        H= HoughTransform(Im, rhoRes, thetaRes)\n",
    "        lRho,lTheta =HoughLines(H,rhoRes,thetaRes,nLines)\n",
    "        l = HoughLineSegments(lRho, lTheta, Im)\n",
    "\n",
    "        # saves the outputs to files\n",
    "        # Im, H, Im + hough line , Im + hough line segments\n",
    "\n",
    "\n",
    "if __name__ == '__main__':\n",
    "    main()"
   ]
  },
  {
   "cell_type": "code",
   "execution_count": null,
   "id": "892a2c7b",
   "metadata": {},
   "outputs": [],
   "source": []
  }
 ],
 "metadata": {
  "kernelspec": {
   "display_name": "Python 3",
   "language": "python",
   "name": "python3"
  },
  "language_info": {
   "codemirror_mode": {
    "name": "ipython",
    "version": 3
   },
   "file_extension": ".py",
   "mimetype": "text/x-python",
   "name": "python",
   "nbconvert_exporter": "python",
   "pygments_lexer": "ipython3",
   "version": "3.8.11"
  }
 },
 "nbformat": 4,
 "nbformat_minor": 5
}
