{
 "cells": [
  {
   "cell_type": "code",
   "execution_count": 11,
   "metadata": {
    "scrolled": true
   },
   "outputs": [
    {
     "name": "stdout",
     "output_type": "stream",
     "text": [
      "Overwriting HW1_2.py\n"
     ]
    }
   ],
   "source": [
    "%%writefile HW1_2.py \n",
    "import os\n",
    "import math\n",
    "import numpy as np\n",
    "from PIL import Image\n",
    "from matplotlib import pyplot as plt\n",
    "\n",
    "import utils\n",
    "\n",
    "\n",
    "\n",
    "def gaussian_pyramid(input_image, level):\n",
    "    \n",
    "    G = []\n",
    "    G.append(input_image)\n",
    "    for i in range(level):                 \n",
    "        G.append(utils.down_sampling(G[i]))\n",
    "        \n",
    "    return G\n",
    "\n",
    "\n",
    "def laplacian_pyramid(gaussian_pyramid):\n",
    "    \n",
    "    L = []\n",
    "    G = gaussian_pyramid\n",
    "    level = len(G)-1\n",
    "    \n",
    "    for i in range(level):\n",
    "        expand = utils.up_sampling(G[i+1])\n",
    "        L.append(utils.safe_subtract(G[i],expand))\n",
    "        \n",
    "    L.append(G[level])    \n",
    "    \n",
    "    return L\n",
    "\n",
    "\n",
    "\n",
    "def blend_images(image1, image2, mask, level):\n",
    "      \n",
    "    G_A, G_B, G_m = gaussian_pyramid(image1, level), gaussian_pyramid(image2, level), gaussian_pyramid(mask, level)    \n",
    "    L_A, L_B = laplacian_pyramid(G_A), laplacian_pyramid(G_B)\n",
    "    p = 0.1\n",
    "        \n",
    "    #combining Laplacian pyramid\n",
    "    G_combined = []\n",
    "    for i in range(level):\n",
    "        masked = utils.safe_subtract(L_A[i], G_m[i])\n",
    "        G_combined.append(utils.safe_add(masked,L_B[i])\n",
    "    \n",
    "    #Adding low resolution images\n",
    "    temp = utils.safe_subtract(utils.up_sampling(G_A[level]),utils.up_sampling(G_m[level]))\n",
    "    blended = utils.safe_add(utils.safe_add(temp,utils.up_sampling(G_B[level])),G_combined[level-1])  \n",
    "    \n",
    "    #upsampling\n",
    "    for i in range(1,level):\n",
    "        blended = utils.up_sampling(blended)\n",
    "        blended = utils.safe_add(blended, G_combined[level-1-i])\n",
    "    \n",
    "    return blended\n",
    "\n",
    "\n",
    "if __name__ == '__main__':\n",
    "    hand = np.asarray(Image.open(os.path.join('images', 'hand.jpeg')).convert('RGB'))\n",
    "    flame = np.asarray(Image.open(os.path.join('images', 'flame.jpeg')).convert('RGB'))\n",
    "    mask = np.asarray(Image.open(os.path.join('images', 'mask.jpeg')).convert('RGB'))\n",
    "\n",
    "    logdir = os.path.join('results', 'HW1_2')\n",
    "    if not os.path.exists(logdir):\n",
    "        os.makedirs(logdir)\n",
    "\n",
    "    level = 3\n",
    "\n",
    "\n",
    "    plt.figure()\n",
    "    plt.imshow(Image.open(os.path.join('images', 'direct_concat.jpeg')))\n",
    "    plt.axis('off')\n",
    "    plt.savefig(os.path.join(logdir, 'direct.jpeg'))\n",
    "    plt.show()\n",
    "\n",
    "#     ret = gaussian_pyramid(hand, level)\n",
    "#     if ret is not None:\n",
    "#         plt.figure()\n",
    "#         for i in range(len(ret)):\n",
    "#             plt.subplot(1, len(ret), i + 1)\n",
    "#             plt.imshow(ret[i].astype(np.uint8))\n",
    "#             plt.axis('off')\n",
    "#         plt.savefig(os.path.join(logdir, 'gaussian_pyramid.jpeg'))\n",
    "#         plt.show()\n",
    "\n",
    "#     ret = laplacian_pyramid(ret)\n",
    "#     if ret is not None:\n",
    "#         plt.figure()\n",
    "#         for i in range(len(ret)):\n",
    "#             plt.subplot(1, len(ret), i + 1)\n",
    "#             plt.imshow(ret[i].astype(np.uint8))\n",
    "#             plt.axis('off')\n",
    "#         plt.savefig(os.path.join(logdir, 'laplacian_pyramid.jpeg'))\n",
    "#         plt.show()\n",
    "\n",
    "    ret = blend_images(hand, flame, mask, level)\n",
    "    if ret is not None:\n",
    "        plt.figure()\n",
    "        plt.imshow(ret.astype(np.uint8))\n",
    "        plt.axis('off')\n",
    "        plt.savefig(os.path.join(logdir, 'blended.jpeg'))\n",
    "        plt.show()\n",
    "\n"
   ]
  },
  {
   "cell_type": "code",
   "execution_count": 6,
   "metadata": {},
   "outputs": [
    {
     "data": {
      "text/plain": [
       "'4.5.3'"
      ]
     },
     "execution_count": 6,
     "metadata": {},
     "output_type": "execute_result"
    }
   ],
   "source": [
    "import cv2\n",
    "cv2.__version__"
   ]
  },
  {
   "cell_type": "code",
   "execution_count": null,
   "metadata": {},
   "outputs": [],
   "source": []
  }
 ],
 "metadata": {
  "kernelspec": {
   "display_name": "Python 3",
   "language": "python",
   "name": "python3"
  },
  "language_info": {
   "codemirror_mode": {
    "name": "ipython",
    "version": 3
   },
   "file_extension": ".py",
   "mimetype": "text/x-python",
   "name": "python",
   "nbconvert_exporter": "python",
   "pygments_lexer": "ipython3",
   "version": "3.8.11"
  }
 },
 "nbformat": 4,
 "nbformat_minor": 2
}
